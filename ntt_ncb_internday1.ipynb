{
  "nbformat": 4,
  "nbformat_minor": 0,
  "metadata": {
    "colab": {
      "provenance": [],
      "authorship_tag": "ABX9TyOfwX/yQbSrm9KJ12yQ/G6V",
      "include_colab_link": true
    },
    "kernelspec": {
      "name": "python3",
      "display_name": "Python 3"
    },
    "language_info": {
      "name": "python"
    }
  },
  "cells": [
    {
      "cell_type": "markdown",
      "metadata": {
        "id": "view-in-github",
        "colab_type": "text"
      },
      "source": [
        "<a href=\"https://colab.research.google.com/github/Nagasaki-u-moe3/----/blob/main/ntt_ncb_internday1.ipynb\" target=\"_parent\"><img src=\"https://colab.research.google.com/assets/colab-badge.svg\" alt=\"Open In Colab\"/></a>"
      ]
    },
    {
      "cell_type": "markdown",
      "source": [
        "#1. 環境構築"
      ],
      "metadata": {
        "id": "whDVX2kNQM3J"
      }
    },
    {
      "cell_type": "code",
      "execution_count": 1,
      "metadata": {
        "colab": {
          "base_uri": "https://localhost:8080/"
        },
        "id": "RBGEWDczP-Sc",
        "outputId": "a23a232d-b252-493d-d59d-1acea60e0713"
      },
      "outputs": [
        {
          "output_type": "stream",
          "name": "stdout",
          "text": [
            "Hello World\n"
          ]
        }
      ],
      "source": [
        "print(\"Hello World\")"
      ]
    },
    {
      "cell_type": "markdown",
      "source": [
        "#3. 順次"
      ],
      "metadata": {
        "id": "4OHDXoG7QXmX"
      }
    },
    {
      "cell_type": "code",
      "source": [
        "print(3+4)\n",
        "\n",
        "x = 3 + 4\n",
        "print(\"3 + 4 = \" + str(3+4))\n",
        "\n",
        "print(\"3 + 4 = \", x)\n",
        "print(f'3 + 4 = {x}')"
      ],
      "metadata": {
        "colab": {
          "base_uri": "https://localhost:8080/"
        },
        "id": "tu15B_-ZQZ-o",
        "outputId": "60cab2c4-390d-4274-bc87-13fd7d93a315"
      },
      "execution_count": 9,
      "outputs": [
        {
          "output_type": "stream",
          "name": "stdout",
          "text": [
            "7\n",
            "3 + 4 = 7\n",
            "3 + 4 =  7\n",
            "3 + 4 = 7\n"
          ]
        }
      ]
    },
    {
      "cell_type": "markdown",
      "source": [
        "# 4. 分岐"
      ],
      "metadata": {
        "id": "Z7E-HkvUSUqN"
      }
    },
    {
      "cell_type": "markdown",
      "source": [
        "*   if-else文"
      ],
      "metadata": {
        "id": "zB8NnsNSTZ_B"
      }
    },
    {
      "cell_type": "code",
      "source": [
        "print(\"あなたの年齢を入れてください\")\n",
        "\n",
        "age = int(input(\"数字で答えてください。\\n\"))  # キーボードからの入力\n",
        "\n",
        "print(\"お酒を売っていいか?\")\n",
        "\n",
        "if age < 20:\n",
        "  judge = \"NG\"\n",
        "else:\n",
        "  judge = \"OK\"\n",
        "\n",
        "print(judge)"
      ],
      "metadata": {
        "colab": {
          "base_uri": "https://localhost:8080/"
        },
        "id": "3iftMZp0SX8-",
        "outputId": "6dc689b7-b375-45ef-9665-75315f06ab0f"
      },
      "execution_count": 11,
      "outputs": [
        {
          "output_type": "stream",
          "name": "stdout",
          "text": [
            "あなたの年齢を入れてください\n",
            "数字で答えてください。\n",
            "22\n",
            "お酒を売っていいか?\n",
            "OK\n"
          ]
        }
      ]
    },
    {
      "cell_type": "markdown",
      "source": [
        "*   条件が複数"
      ],
      "metadata": {
        "id": "d-tEpNa4TvDh"
      }
    },
    {
      "cell_type": "code",
      "source": [
        "print(\"星占いをするよ\")\n",
        "print(\"あなたの好きな星座は\")\n",
        "print(\"1. おひつじ座　2. おうし座　3. ふたご座　4. その他\")\n",
        "\n",
        "zodiac_sign = int(input(\"数字で答えて\\n\"))  # キーボードからの入力\n",
        "\n",
        "if zodiac_sign == 1:\n",
        "  fortune = \"今日はラッキー\"\n",
        "elif zodiac_sign == 2:\n",
        "  fortune = \"今日はアンラッキー\"\n",
        "elif zodiac_sign == 3:\n",
        "  fortune = \"今日は普通\"\n",
        "else:\n",
        "  fortune = \"不明\"\n",
        "\n",
        "print(fortune)\n",
        "print(\"星占いを終わるよ\")\n"
      ],
      "metadata": {
        "colab": {
          "base_uri": "https://localhost:8080/"
        },
        "id": "SEYxL8jOTzqz",
        "outputId": "bb63d791-34dc-4286-cbc4-64aff5dac587"
      },
      "execution_count": 14,
      "outputs": [
        {
          "output_type": "stream",
          "name": "stdout",
          "text": [
            "星占いをするよ\n",
            "あなたの好きな星座は\n",
            "1. おひつじ座　2. おうし座　3. ふたご座　4. その他\n",
            "数字で答えて\n",
            "1\n",
            "今日はラッキー\n",
            "星占いを終わるよ\n"
          ]
        }
      ]
    },
    {
      "cell_type": "markdown",
      "source": [
        "*  入れ子"
      ],
      "metadata": {
        "id": "P83G9ntJU0Rg"
      }
    },
    {
      "cell_type": "code",
      "source": [
        "print(\"星占いをするよ\")\n",
        "print(\"あなたの好きな星座は\")\n",
        "print(\"1. おひつじ座　2. おうし座　3. ふたご座　4. その他\")\n",
        "zodiac_sign = int(input(\"数字で答えて\\n\"))  # キーボードからの入力\n",
        "\n",
        "print(\"あなたの誕生月は?\")\n",
        "birth_month = int(input(\"数字で答えて\\n\"))\n",
        "\n",
        "# 星座で1または2を選択\n",
        "if zodiac_sign in[ 1, 2]:\n",
        "  # 誕生月が1,2,3月\n",
        "  if birth_month in [1, 2, 3]:\n",
        "    fortune = \"今日はラッキー\"\n",
        "  # 誕生月がそれ以外\n",
        "  else:\n",
        "    fortune = \"今日はベリーラッキー\"\n",
        "  # fortune = \"今日はラッキー\"\n",
        "\n",
        "# 星座で4を選択\n",
        "elif zodiac_sign == 4:\n",
        "  # 誕生月が1,2,3月\n",
        "  if birth_month in [1, 2, 3]:\n",
        "    fortune = \"今日はアンラッキー\"\n",
        "  else:\n",
        "    fortune = \"今日はベリーラッキー\"\n",
        "\n",
        "# 星座で3を選択\n",
        "elif zodiac_sign == 3:\n",
        "  fortune = \"今日は普通\"\n",
        "\n",
        "# その他\n",
        "else:\n",
        "  fortune = \"不明\"\n",
        "\n",
        "print(fortune)"
      ],
      "metadata": {
        "colab": {
          "base_uri": "https://localhost:8080/"
        },
        "id": "rc-eH4BZVYp7",
        "outputId": "c117bf85-1dd8-4044-c15f-6aa0299ef6b7"
      },
      "execution_count": 15,
      "outputs": [
        {
          "output_type": "stream",
          "name": "stdout",
          "text": [
            "星占いをするよ\n",
            "あなたの好きな星座は\n",
            "1. おひつじ座　2. おうし座　3. ふたご座　4. その他\n",
            "数字で答えて\n",
            "3\n",
            "あなたの誕生月は?\n",
            "数字で答えて\n",
            "1\n",
            "今日は普通\n"
          ]
        }
      ]
    },
    {
      "cell_type": "markdown",
      "source": [
        "#5. 繰り返し"
      ],
      "metadata": {
        "id": "nSaV59VoX6lE"
      }
    },
    {
      "cell_type": "markdown",
      "source": [
        "* for文\n",
        "\n"
      ],
      "metadata": {
        "id": "pSkCmgxZYF1c"
      }
    },
    {
      "cell_type": "code",
      "source": [
        "for count in range(10):\n",
        "  print(\"俺の話を聞け!\")"
      ],
      "metadata": {
        "colab": {
          "base_uri": "https://localhost:8080/"
        },
        "id": "FD1wcnocX-QG",
        "outputId": "f7583246-02b2-4431-c919-1cb2e11cc7c0"
      },
      "execution_count": 16,
      "outputs": [
        {
          "output_type": "stream",
          "name": "stdout",
          "text": [
            "俺の話を聞け!\n",
            "俺の話を聞け!\n",
            "俺の話を聞け!\n",
            "俺の話を聞け!\n",
            "俺の話を聞け!\n",
            "俺の話を聞け!\n",
            "俺の話を聞け!\n",
            "俺の話を聞け!\n",
            "俺の話を聞け!\n",
            "俺の話を聞け!\n"
          ]
        }
      ]
    },
    {
      "cell_type": "markdown",
      "source": [
        "* while文"
      ],
      "metadata": {
        "id": "5o9QE4cRYNoA"
      }
    },
    {
      "cell_type": "code",
      "source": [
        "counter = 0\n",
        "while (counter < 10):\n",
        "  print(\"お前の話を聞く!\")\n",
        "  counter += 1"
      ],
      "metadata": {
        "colab": {
          "base_uri": "https://localhost:8080/"
        },
        "id": "uG9LHZ7EYPxW",
        "outputId": "6e1c9972-6a74-48ee-91ce-4eb25a37a764"
      },
      "execution_count": 17,
      "outputs": [
        {
          "output_type": "stream",
          "name": "stdout",
          "text": [
            "お前の話を聞く!\n",
            "お前の話を聞く!\n",
            "お前の話を聞く!\n",
            "お前の話を聞く!\n",
            "お前の話を聞く!\n",
            "お前の話を聞く!\n",
            "お前の話を聞く!\n",
            "お前の話を聞く!\n",
            "お前の話を聞く!\n",
            "お前の話を聞く!\n"
          ]
        }
      ]
    },
    {
      "cell_type": "markdown",
      "source": [
        "* 繰り返しと分岐"
      ],
      "metadata": {
        "id": "8J9-DmbaYbX7"
      }
    },
    {
      "cell_type": "code",
      "source": [
        "# countに0から5-1まで1ずつ増やしながら処理\n",
        "for count in range(5):\n",
        "  print(\"奇数，偶数を判断する数字は\" + str(count) + \"です\")\n",
        "  if count % 2 == 1:\n",
        "    print(\"奇数\")\n",
        "  elif count%2 == 0:\n",
        "    print(\"偶数\")\n",
        "  else:\n",
        "    print(\"error\")"
      ],
      "metadata": {
        "colab": {
          "base_uri": "https://localhost:8080/"
        },
        "id": "WtgHJR2GYbFI",
        "outputId": "746f8bcc-2b74-4293-face-cf8f52b3818b"
      },
      "execution_count": 19,
      "outputs": [
        {
          "output_type": "stream",
          "name": "stdout",
          "text": [
            "奇数，偶数を判断する数字は0です\n",
            "偶数\n",
            "奇数，偶数を判断する数字は1です\n",
            "奇数\n",
            "奇数，偶数を判断する数字は2です\n",
            "偶数\n",
            "奇数，偶数を判断する数字は3です\n",
            "奇数\n",
            "奇数，偶数を判断する数字は4です\n",
            "偶数\n"
          ]
        }
      ]
    },
    {
      "cell_type": "markdown",
      "source": [
        "# 6. 配列"
      ],
      "metadata": {
        "id": "uooSK6sfZMVy"
      }
    },
    {
      "cell_type": "code",
      "source": [
        "list_number = [1, 2, 3, 4, 5, 6, 7, 8, 9, 10]\n",
        "print(list_number[0])\n",
        "\n",
        "print(\"-----配列の中身全て出力、繰り返し構文を使う-----\")\n",
        "for number in list_number:\n",
        "  print(number)"
      ],
      "metadata": {
        "colab": {
          "base_uri": "https://localhost:8080/"
        },
        "id": "Mpe7g8oZZPYf",
        "outputId": "b7ed5bc6-780e-4563-caed-72c89844a5f3"
      },
      "execution_count": 20,
      "outputs": [
        {
          "output_type": "stream",
          "name": "stdout",
          "text": [
            "1\n",
            "-----配列の中身全て出力、繰り返し構文を使う-----\n",
            "1\n",
            "2\n",
            "3\n",
            "4\n",
            "5\n",
            "6\n",
            "7\n",
            "8\n",
            "9\n",
            "10\n"
          ]
        }
      ]
    }
  ]
}